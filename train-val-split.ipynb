{
 "cells": [
  {
   "cell_type": "markdown",
   "metadata": {},
   "source": [
    "# Train/val split \n",
    "\n",
    "It's quite complex to split the dataset into a train, test and validation set. This is because in my SWDance list, some spoken word pieces appear multiple times. For the validation set one would prefer to have a set of motions + text that the model has never seen before. "
   ]
  },
  {
   "cell_type": "code",
   "execution_count": 25,
   "metadata": {},
   "outputs": [
    {
     "data": {
      "text/html": [
       "<div>\n",
       "<style scoped>\n",
       "    .dataframe tbody tr th:only-of-type {\n",
       "        vertical-align: middle;\n",
       "    }\n",
       "\n",
       "    .dataframe tbody tr th {\n",
       "        vertical-align: top;\n",
       "    }\n",
       "\n",
       "    .dataframe thead th {\n",
       "        text-align: right;\n",
       "    }\n",
       "</style>\n",
       "<table border=\"1\" class=\"dataframe\">\n",
       "  <thead>\n",
       "    <tr style=\"text-align: right;\">\n",
       "      <th></th>\n",
       "      <th>file_idx</th>\n",
       "      <th>video_idx</th>\n",
       "      <th>start_frame</th>\n",
       "      <th>end_frame</th>\n",
       "      <th>start_time</th>\n",
       "      <th>end_time</th>\n",
       "      <th>new_name</th>\n",
       "      <th>fps</th>\n",
       "      <th>caption</th>\n",
       "      <th>no_frames</th>\n",
       "    </tr>\n",
       "  </thead>\n",
       "  <tbody>\n",
       "    <tr>\n",
       "      <th>0</th>\n",
       "      <td>0</td>\n",
       "      <td>0</td>\n",
       "      <td>149</td>\n",
       "      <td>387</td>\n",
       "      <td>7.45</td>\n",
       "      <td>19.36</td>\n",
       "      <td>000000.npy</td>\n",
       "      <td>20</td>\n",
       "      <td>[' Music, breathing of statues, perhaps silenc...</td>\n",
       "      <td>239</td>\n",
       "    </tr>\n",
       "  </tbody>\n",
       "</table>\n",
       "</div>"
      ],
      "text/plain": [
       "   file_idx  video_idx  start_frame  end_frame  start_time  end_time  \\\n",
       "0         0          0          149        387        7.45     19.36   \n",
       "\n",
       "     new_name  fps                                            caption  \\\n",
       "0  000000.npy   20  [' Music, breathing of statues, perhaps silenc...   \n",
       "\n",
       "   no_frames  \n",
       "0        239  "
      ]
     },
     "execution_count": 25,
     "metadata": {},
     "output_type": "execute_result"
    }
   ],
   "source": [
    "import pandas as pd \n",
    "import numpy as np\n",
    "\n",
    "index_df = pd.read_csv('dataset/SWDance2/index.csv')\n",
    "index_df.head(1)"
   ]
  },
  {
   "cell_type": "markdown",
   "metadata": {},
   "source": [
    "You could just take 1 video, one of which you know the text only appears once in the dataeset. "
   ]
  },
  {
   "cell_type": "code",
   "execution_count": 26,
   "metadata": {},
   "outputs": [
    {
     "data": {
      "text/html": [
       "<div>\n",
       "<style scoped>\n",
       "    .dataframe tbody tr th:only-of-type {\n",
       "        vertical-align: middle;\n",
       "    }\n",
       "\n",
       "    .dataframe tbody tr th {\n",
       "        vertical-align: top;\n",
       "    }\n",
       "\n",
       "    .dataframe thead th {\n",
       "        text-align: right;\n",
       "    }\n",
       "</style>\n",
       "<table border=\"1\" class=\"dataframe\">\n",
       "  <thead>\n",
       "    <tr style=\"text-align: right;\">\n",
       "      <th></th>\n",
       "      <th>file_idx</th>\n",
       "      <th>video_idx</th>\n",
       "      <th>start_frame</th>\n",
       "      <th>end_frame</th>\n",
       "      <th>start_time</th>\n",
       "      <th>end_time</th>\n",
       "      <th>new_name</th>\n",
       "      <th>fps</th>\n",
       "      <th>caption</th>\n",
       "      <th>no_frames</th>\n",
       "    </tr>\n",
       "  </thead>\n",
       "  <tbody>\n",
       "    <tr>\n",
       "      <th>2640</th>\n",
       "      <td>1320</td>\n",
       "      <td>42</td>\n",
       "      <td>18</td>\n",
       "      <td>154</td>\n",
       "      <td>0.89</td>\n",
       "      <td>7.68</td>\n",
       "      <td>001320.npy</td>\n",
       "      <td>20</td>\n",
       "      <td>[\" I cry when there is no end and I cry becaus...</td>\n",
       "      <td>137</td>\n",
       "    </tr>\n",
       "  </tbody>\n",
       "</table>\n",
       "</div>"
      ],
      "text/plain": [
       "      file_idx  video_idx  start_frame  end_frame  start_time  end_time  \\\n",
       "2640      1320         42           18        154        0.89      7.68   \n",
       "\n",
       "        new_name  fps                                            caption  \\\n",
       "2640  001320.npy   20  [\" I cry when there is no end and I cry becaus...   \n",
       "\n",
       "      no_frames  \n",
       "2640        137  "
      ]
     },
     "execution_count": 26,
     "metadata": {},
     "output_type": "execute_result"
    }
   ],
   "source": [
    "index_df[index_df['video_idx'] == 42].head(1)"
   ]
  },
  {
   "cell_type": "code",
   "execution_count": 4,
   "metadata": {},
   "outputs": [
    {
     "name": "stdout",
     "output_type": "stream",
     "text": [
      "18 ['001320', 'M001320', '001321', 'M001321', '001322', 'M001322', '001323', 'M001323', '001324', 'M001324', '001325', 'M001325', '001326', 'M001326', '001327', 'M001327', '001328', 'M001328']\n"
     ]
    }
   ],
   "source": [
    "# get all filenames of this video\n",
    "\n",
    "vid_42_idcs = []\n",
    "for name in index_df['new_name'][index_df['video_idx'] == 42]:\n",
    "    vid_42_idcs += [name.strip('.npy')]\n",
    "\n",
    "print(len(vid_42_idcs), vid_42_idcs)"
   ]
  },
  {
   "cell_type": "markdown",
   "metadata": {},
   "source": [
    "I also added some sentences based on representation of each augmented emotion into the validation set 'manually'. An example of how to do this is shown in the next section. "
   ]
  },
  {
   "cell_type": "code",
   "execution_count": 15,
   "metadata": {},
   "outputs": [
    {
     "name": "stdout",
     "output_type": "stream",
     "text": [
      "[' When do we draw the line?', ' When do we draw the line? joy delight happiness passion excitement love', 'joy delight happiness passion excitement love']\n",
      "[' When do we draw the line?', ' When do we draw the line? joy delight happiness passion excitement love', 'joy delight happiness passion excitement love']\n",
      "[' When do we draw the line?', ' When do we draw the line? joy delight happiness passion excitement love', 'joy delight happiness passion excitement love']\n",
      "[' When do we draw the line?', ' When do we draw the line? joy delight happiness passion excitement love', 'joy delight happiness passion excitement love']\n",
      "[' But when do we draw the line?', ' But when do we draw the line? anger frustration outrage resentment dismay fear', 'anger frustration outrage resentment dismay fear']\n",
      "[' But when do we draw the line?', ' But when do we draw the line? anger frustration outrage resentment dismay fear', 'anger frustration outrage resentment dismay fear']\n",
      "[' When do we draw the line?', ' When do we draw the line? joy delight happiness passion excitement love', 'joy delight happiness passion excitement love']\n",
      "[' When do we draw the line?', ' When do we draw the line? joy delight happiness passion excitement love', 'joy delight happiness passion excitement love']\n",
      "[' Dear you remember that I love you whoever you are and that last night might have been bad and tonight might be worse', ' Dear you remember that I love you whoever you are and that last night might have been bad and tonight might be worse sadness sorrow grief anguish despair dismay', 'sadness sorrow grief anguish despair dismay']\n",
      "[' Dear you remember that I love you whoever you are and that last night might have been bad and tonight might be worse', ' Dear you remember that I love you whoever you are and that last night might have been bad and tonight might be worse sadness sorrow grief anguish despair dismay', 'sadness sorrow grief anguish despair dismay']\n",
      "[' It all comes down to this.', ' It all comes down to this. joy delight happiness passion excitement love', 'joy delight happiness passion excitement love']\n",
      "[' It all comes down to this.', ' It all comes down to this. joy delight happiness passion excitement love', 'joy delight happiness passion excitement love']\n",
      "[\" There's nobody's missing me\", \" There's nobody's missing me sadness sorrow grief anguish despair dismay\", 'sadness sorrow grief anguish despair dismay']\n",
      "[\" There's nobody's missing me\", \" There's nobody's missing me sadness sorrow grief anguish despair dismay\", 'sadness sorrow grief anguish despair dismay']\n",
      "[' I know I am because I said I am.', ' I know I am because I said I am. joy delight happiness passion excitement love', 'joy delight happiness passion excitement love']\n",
      "[' I know I am because I said I am.', ' I know I am because I said I am. joy delight happiness passion excitement love', 'joy delight happiness passion excitement love']\n",
      "[' I know I am because I said', ' I know I am because I said anger frustration outrage resentment dismay fear', 'anger frustration outrage resentment dismay fear']\n",
      "[' I know I am because I said', ' I know I am because I said anger frustration outrage resentment dismay fear', 'anger frustration outrage resentment dismay fear']\n",
      "[' I know I am because I said I am.', ' I know I am because I said I am. joy delight happiness passion excitement love', 'joy delight happiness passion excitement love']\n",
      "[' I know I am because I said I am.', ' I know I am because I said I am. joy delight happiness passion excitement love', 'joy delight happiness passion excitement love']\n",
      "[' I know I am because I said I am.', ' I know I am because I said I am. joy delight happiness passion excitement love', 'joy delight happiness passion excitement love']\n",
      "[' I know I am because I said I am.', ' I know I am because I said I am. joy delight happiness passion excitement love', 'joy delight happiness passion excitement love']\n",
      "[' I know I am because I said I am.', ' I know I am because I said I am. joy delight happiness passion excitement love', 'joy delight happiness passion excitement love']\n",
      "[' I know I am because I said I am.', ' I know I am because I said I am. joy delight happiness passion excitement love', 'joy delight happiness passion excitement love']\n",
      "[' I know I am because I said I am.', ' I know I am because I said I am. joy delight happiness passion excitement love', 'joy delight happiness passion excitement love']\n",
      "[' I know I am because I said I am.', ' I know I am because I said I am. joy delight happiness passion excitement love', 'joy delight happiness passion excitement love']\n",
      "[' I know I am because I said I am,', ' I know I am because I said I am, joy delight happiness passion excitement love', 'joy delight happiness passion excitement love']\n",
      "[' I know I am because I said I am,', ' I know I am because I said I am, joy delight happiness passion excitement love', 'joy delight happiness passion excitement love']\n",
      "[' I know I am because I said I am,', ' I know I am because I said I am, joy delight happiness passion excitement love', 'joy delight happiness passion excitement love']\n",
      "[' I know I am because I said I am,', ' I know I am because I said I am, joy delight happiness passion excitement love', 'joy delight happiness passion excitement love']\n",
      "[' I know I am because I said I am.', ' I know I am because I said I am. joy delight happiness passion excitement love', 'joy delight happiness passion excitement love']\n",
      "[' I know I am because I said I am.', ' I know I am because I said I am. joy delight happiness passion excitement love', 'joy delight happiness passion excitement love']\n",
      "[' I know I am because I said', ' I know I am because I said anger frustration outrage resentment dismay fear', 'anger frustration outrage resentment dismay fear']\n",
      "[' I know I am because I said', ' I know I am because I said anger frustration outrage resentment dismay fear', 'anger frustration outrage resentment dismay fear']\n",
      "[' I know I am because I said I am.', ' I know I am because I said I am. joy delight happiness passion excitement love', 'joy delight happiness passion excitement love']\n",
      "[' I know I am because I said I am.', ' I know I am because I said I am. joy delight happiness passion excitement love', 'joy delight happiness passion excitement love']\n",
      "[\" We're used up and we're sad and drunk and perpetually waiting by the phone for someone to pick up and tell us that we did good.\", \" We're used up and we're sad and drunk and perpetually waiting by the phone for someone to pick up and tell us that we did good. sadness sorrow grief anguish despair dismay\", 'sadness sorrow grief anguish despair dismay']\n",
      "[\" We're used up and we're sad and drunk and perpetually waiting by the phone for someone to pick up and tell us that we did good.\", \" We're used up and we're sad and drunk and perpetually waiting by the phone for someone to pick up and tell us that we did good. sadness sorrow grief anguish despair dismay\", 'sadness sorrow grief anguish despair dismay']\n",
      "[\" but maybe I'm just not good enough.\", \" but maybe I'm just not good enough. joy delight happiness passion excitement love\", 'joy delight happiness passion excitement love']\n",
      "[\" but maybe I'm just not good enough.\", \" but maybe I'm just not good enough. joy delight happiness passion excitement love\", 'joy delight happiness passion excitement love']\n",
      "[\" Maybe I'm just not good enough.\", \" Maybe I'm just not good enough. joy delight happiness passion excitement love\", 'joy delight happiness passion excitement love']\n",
      "[\" Maybe I'm just not good enough.\", \" Maybe I'm just not good enough. joy delight happiness passion excitement love\", 'joy delight happiness passion excitement love']\n",
      "[\" Maybe I'm just not good enough,\", \" Maybe I'm just not good enough, joy delight happiness passion excitement love\", 'joy delight happiness passion excitement love']\n",
      "[\" Maybe I'm just not good enough,\", \" Maybe I'm just not good enough, joy delight happiness passion excitement love\", 'joy delight happiness passion excitement love']\n",
      "[\" So how am I supposed to let go when you won't let me let go and maybe I'm just not good enough,\", \" So how am I supposed to let go when you won't let me let go and maybe I'm just not good enough, sadness sorrow grief anguish despair dismay\", 'sadness sorrow grief anguish despair dismay']\n",
      "[\" So how am I supposed to let go when you won't let me let go and maybe I'm just not good enough,\", \" So how am I supposed to let go when you won't let me let go and maybe I'm just not good enough, sadness sorrow grief anguish despair dismay\", 'sadness sorrow grief anguish despair dismay']\n",
      "[\" Maybe I'm just not good enough,\", \" Maybe I'm just not good enough, joy delight happiness passion excitement love\", 'joy delight happiness passion excitement love']\n",
      "[\" Maybe I'm just not good enough,\", \" Maybe I'm just not good enough, joy delight happiness passion excitement love\", 'joy delight happiness passion excitement love']\n",
      "[\" So how am I supposed to let go when you won't let me let go and maybe I'm just not good enough.\", \" So how am I supposed to let go when you won't let me let go and maybe I'm just not good enough. sadness sorrow grief anguish despair dismay\", 'sadness sorrow grief anguish despair dismay']\n",
      "[\" So how am I supposed to let go when you won't let me let go and maybe I'm just not good enough.\", \" So how am I supposed to let go when you won't let me let go and maybe I'm just not good enough. sadness sorrow grief anguish despair dismay\", 'sadness sorrow grief anguish despair dismay']\n",
      "[\" And maybe I'm just not good enough,\", \" And maybe I'm just not good enough, joy delight happiness passion excitement love\", 'joy delight happiness passion excitement love']\n",
      "[\" And maybe I'm just not good enough,\", \" And maybe I'm just not good enough, joy delight happiness passion excitement love\", 'joy delight happiness passion excitement love']\n",
      "[' So how am I supposed to let go?', ' So how am I supposed to let go? sadness sorrow grief anguish despair dismay', 'sadness sorrow grief anguish despair dismay']\n",
      "[' So how am I supposed to let go?', ' So how am I supposed to let go? sadness sorrow grief anguish despair dismay', 'sadness sorrow grief anguish despair dismay']\n",
      "[\" So how am I supposed to let go when you won't let me let go and maybe I'm just not good enough,\", \" So how am I supposed to let go when you won't let me let go and maybe I'm just not good enough, sadness sorrow grief anguish despair dismay\", 'sadness sorrow grief anguish despair dismay']\n",
      "[\" So how am I supposed to let go when you won't let me let go and maybe I'm just not good enough,\", \" So how am I supposed to let go when you won't let me let go and maybe I'm just not good enough, sadness sorrow grief anguish despair dismay\", 'sadness sorrow grief anguish despair dismay']\n",
      "[\" So how am I supposed to let go when you won't let me let go and maybe I'm just not good enough.\", \" So how am I supposed to let go when you won't let me let go and maybe I'm just not good enough. sadness sorrow grief anguish despair dismay\", 'sadness sorrow grief anguish despair dismay']\n",
      "[\" So how am I supposed to let go when you won't let me let go and maybe I'm just not good enough.\", \" So how am I supposed to let go when you won't let me let go and maybe I'm just not good enough. sadness sorrow grief anguish despair dismay\", 'sadness sorrow grief anguish despair dismay']\n",
      "[' So we grew up believing known whatever fall in love with us.', ' So we grew up believing known whatever fall in love with us. joy delight happiness passion excitement love', 'joy delight happiness passion excitement love']\n",
      "[' So we grew up believing known whatever fall in love with us.', ' So we grew up believing known whatever fall in love with us. joy delight happiness passion excitement love', 'joy delight happiness passion excitement love']\n",
      "[\" But what if it isn't easy?\", \" But what if it isn't easy? joy delight happiness passion excitement love\", 'joy delight happiness passion excitement love']\n",
      "[\" But what if it isn't easy?\", \" But what if it isn't easy? joy delight happiness passion excitement love\", 'joy delight happiness passion excitement love']\n",
      "62 ['001128', 'M001128', '001213', 'M001213', '001526', 'M001526', '001559', 'M001559', '000149', 'M000149', '002108', 'M002108', '000506', 'M000506', '001140', 'M001140', '001141', 'M001141', '001542', 'M001542', '001546', 'M001546', '001547', 'M001547', '001548', 'M001548', '001598', 'M001598', '001599', 'M001599', '001600', 'M001600', '001657', 'M001657', '001660', 'M001660', '001540', 'M001540', '000915', 'M000915', '000920', 'M000920', '000934', 'M000934', '000936', 'M000936', '000947', 'M000947', '000950', 'M000950', '000956', 'M000956', '000918', 'M000918', '000936', 'M000936', '000950', 'M000950', '002122', 'M002122', '000127', 'M000127']\n"
     ]
    }
   ],
   "source": [
    "emo_list = [\n",
    "    \"when do we draw the line\", \n",
    "    \"dear you remember that I love you\",\n",
    "    \"it all comes down to this\", \n",
    "    \"there's nobody's missing me\", \n",
    "    \"I know I am because I said\",\n",
    "    \"We're used up and we're sad and drunk\",\n",
    "    \"Maybe I'm just not good enough\",\n",
    "    \"So how am I supposed to let go\", \n",
    "    \"So we grew up believing known whatever fall in love with us\", \n",
    "    \"But what if it isn't easy\",\n",
    "]\n",
    "\n",
    "emo_idcs = []\n",
    "for sentence in emo_list:\n",
    "    # NOTE: make sure to get each occurence of this sentence, and put it into the validation set! \n",
    "    idcs = np.where(index_df['caption'].str.contains(sentence, case=False) == True)\n",
    "    for idx in idcs[0].tolist():\n",
    "        print(index_df['caption'][idx])\n",
    "        emo_idcs += [index_df['new_name'][idx].strip('.npy')]\n",
    "\n",
    "print(len(emo_idcs), emo_idcs)\n",
    "\n"
   ]
  },
  {
   "cell_type": "code",
   "execution_count": 24,
   "metadata": {},
   "outputs": [
    {
     "name": "stdout",
     "output_type": "stream",
     "text": [
      "4364 76\n",
      "No overlap!\n"
     ]
    }
   ],
   "source": [
    "# valudation set is the lists of idcs described above\n",
    "val_idcs = list(set(emo_idcs + vid_42_idcs))\n",
    "\n",
    "# all other videos are for the training set\n",
    "train_idcs = []\n",
    "for name in index_df['new_name']:\n",
    "    name = name.strip('.npy')\n",
    "    if name in val_idcs:\n",
    "        continue\n",
    "    else:\n",
    "        train_idcs += [name]\n",
    "\n",
    "print(len(train_idcs), len(val_idcs))\n",
    "\n",
    "# Check for overlap \n",
    "if not set(train_idcs).intersection(set(val_idcs)):\n",
    "    print(\"No overlap!\")\n",
    "else:\n",
    "    print(\"Overlap...\")"
   ]
  },
  {
   "cell_type": "code",
   "execution_count": null,
   "metadata": {},
   "outputs": [],
   "source": [
    "# Save in correct format. \n",
    "with open('dataset/SWDance/train.txt', 'w') as f:\n",
    "    f.write('\\n'.join(train_idcs))\n",
    "with open('dataset/SWDance/val.txt', 'w') as f:\n",
    "    f.write('\\n'.join(val_idcs))"
   ]
  },
  {
   "cell_type": "markdown",
   "metadata": {},
   "source": [
    "Create a text file with all validation texts, so you can easily sample from it. I just took the text+augmented emotion sentence for this. "
   ]
  },
  {
   "cell_type": "code",
   "execution_count": 31,
   "metadata": {},
   "outputs": [
    {
     "name": "stdout",
     "output_type": "stream",
     "text": [
      "27\n"
     ]
    }
   ],
   "source": [
    "sampling_methods = {\n",
    "    \"just text\": 0,\n",
    "    \"text+emo\": 1,\n",
    "    \"just emo\": 2,\n",
    "}\n",
    "val_sampling = \"text+emo\"\n",
    "\n",
    "val_texts = []\n",
    "for file in val_idcs:\n",
    "    with open(\"dataset/SWDance/texts/\"+file.strip('\\n')+\".txt\", \"r\") as txtfile:\n",
    "        text = txtfile.readlines()\n",
    "        if \" # /X#0.0#0.0\\n\" in text:\n",
    "            continue\n",
    "        else:\n",
    "            val_texts += [text[sampling_methods[val_sampling]].split(\"#\")[0]]\n",
    "        \n",
    "val_texts = list(dict.fromkeys(val_texts)) # remove duplicates\n",
    "val_texts += [\" \"]\n",
    "print(len(val_texts))\n",
    "\n",
    "with open(\"sample/val_texts2.txt\", \"w\") as sample_file:\n",
    "    for txt in val_texts:\n",
    "        sample_file.write(txt+\"\\n\")"
   ]
  },
  {
   "cell_type": "markdown",
   "metadata": {},
   "source": [
    "## Extract sentences per emotion\n",
    "Here's an example of how to get a few sentences per emotion. Might be useful for shaping the validation set. "
   ]
  },
  {
   "cell_type": "code",
   "execution_count": 29,
   "metadata": {},
   "outputs": [
    {
     "name": "stdout",
     "output_type": "stream",
     "text": [
      "10 ['000000', 'M000000', '000274', 'M000274', '000001', 'M000001', '000001', 'M000001', '000020', 'M000020']\n",
      "000000 [' Music, breathing of statues, perhaps silence of paintings, you language where all language', ' Music, breathing of statues, perhaps silence of paintings, you language where all language joy delight happiness passion excitement love', 'joy delight happiness passion excitement love']\n",
      "M000000 [' Music, breathing of statues, perhaps silence of paintings, you language where all language', ' Music, breathing of statues, perhaps silence of paintings, you language where all language joy delight happiness passion excitement love', 'joy delight happiness passion excitement love']\n",
      "000274 [\" Because they see your heart for they see your skin, but she's only ever always been amazing. He\", \" Because they see your heart for they see your skin, but she's only ever always been amazing. He surprise surprising surprised chance\", 'surprise surprising surprised chance']\n",
      "M000274 [\" Because they see your heart for they see your skin, but she's only ever always been amazing. He\", \" Because they see your heart for they see your skin, but she's only ever always been amazing. He surprise surprising surprised chance\", 'surprise surprising surprised chance']\n",
      "000001 [' ends, you time standing vertically on the motion of mortal hearts.', ' ends, you time standing vertically on the motion of mortal hearts. fear worry fears fearing anger danger', 'fear worry fears fearing anger danger']\n",
      "M000001 [' ends, you time standing vertically on the motion of mortal hearts.', ' ends, you time standing vertically on the motion of mortal hearts. fear worry fears fearing anger danger', 'fear worry fears fearing anger danger']\n",
      "000001 [' ends, you time standing vertically on the motion of mortal hearts.', ' ends, you time standing vertically on the motion of mortal hearts. fear worry fears fearing anger danger', 'fear worry fears fearing anger danger']\n",
      "M000001 [' ends, you time standing vertically on the motion of mortal hearts.', ' ends, you time standing vertically on the motion of mortal hearts. fear worry fears fearing anger danger', 'fear worry fears fearing anger danger']\n",
      "000020 [' I 100% absolutely did not have lice and even if I do,', ' I 100% absolutely did not have lice and even if I do, sadness sorrow grief anguish despair dismay', 'sadness sorrow grief anguish despair dismay']\n",
      "M000020 [' I 100% absolutely did not have lice and even if I do,', ' I 100% absolutely did not have lice and even if I do, sadness sorrow grief anguish despair dismay', 'sadness sorrow grief anguish despair dismay']\n"
     ]
    }
   ],
   "source": [
    "\n",
    "import numpy as np\n",
    "emotions = ['joy', 'surprise', 'anger', 'fear', 'sadness']\n",
    "n_samples = 2# samples per emotion\n",
    " \n",
    "all_emo_idcs = []\n",
    "all_emo_caps = []\n",
    "for emo in emotions:\n",
    "    idcs = np.where(index_df['caption'].str.contains(emo) == True)\n",
    "\n",
    "    for idx in idcs[0].tolist()[:n_samples]:\n",
    "        all_emo_idcs += [index_df['new_name'][idx].strip('.npy')]\n",
    "        all_emo_caps += [index_df['caption'][idx]]\n",
    "\n",
    "print(len(all_emo_idcs), all_emo_idcs)\n",
    "for i, cap in enumerate(all_emo_caps):\n",
    "    print(all_emo_idcs[i], cap)\n"
   ]
  }
 ],
 "metadata": {
  "kernelspec": {
   "display_name": "mdm-kernel",
   "language": "python",
   "name": "mdm-kernel"
  },
  "language_info": {
   "codemirror_mode": {
    "name": "ipython",
    "version": 3
   },
   "file_extension": ".py",
   "mimetype": "text/x-python",
   "name": "python",
   "nbconvert_exporter": "python",
   "pygments_lexer": "ipython3",
   "version": "3.10.10"
  }
 },
 "nbformat": 4,
 "nbformat_minor": 2
}
