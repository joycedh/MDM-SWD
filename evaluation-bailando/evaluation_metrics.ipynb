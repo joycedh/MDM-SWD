{
 "cells": [
  {
   "cell_type": "markdown",
   "metadata": {},
   "source": [
    "# Evaluation Metrics \n",
    "\n",
    "According to [Bailando](https://github.com/lisiyao21/Bailando/). \n",
    "\n",
    "- Calculate the FID score for the kinetic and geometric features, indicating the quality of the movements.\n",
    "- Calculate the Div score for the kinetic and geometric features, indicating the difference in distribution between the ground truth and the generated movements. "
   ]
  },
  {
   "cell_type": "markdown",
   "metadata": {},
   "source": [
    "## 1. Extract the AIST++ features\n",
    "\n",
    "Generate these for each set of motions you'd like to evaluate (e.g. the validation set of the motions generated from the evaluation set). GT = ground truth, being the dance motions extracted from the videos. "
   ]
  },
  {
   "cell_type": "code",
   "execution_count": 1,
   "metadata": {},
   "outputs": [],
   "source": [
    "import os\n",
    "import numpy as np\n",
    "import argparse\n",
    "\n",
    "from utils.features.kinetic import extract_kinetic_features\n",
    "from utils.features.manual_new import extract_manual_features\n",
    "\n",
    "import multiprocessing\n",
    "import functools"
   ]
  },
  {
   "cell_type": "code",
   "execution_count": 2,
   "metadata": {},
   "outputs": [],
   "source": [
    "def calc_metrics(file_name, motion_dir, save_dir):\n",
    "\n",
    "    seq_name = file_name[:-4]\n",
    "\n",
    "    man_file = os.path.join(save_dir, 'manual_features_new', seq_name+\"_manual.npy\")\n",
    "    kin_file = os.path.join(save_dir, 'kinetic_features', seq_name+\"_kinetic.npy\")\n",
    "    \n",
    "    keypoints3d = np.load(os.path.join(motion_dir, file_name)) \n",
    "\n",
    "    if not os.path.exists(man_file):\n",
    "        features = extract_manual_features(keypoints3d)\n",
    "        np.save(man_file, features)\n",
    "    else:\n",
    "        print(f'man file of {seq_name} exists')\n",
    "\n",
    "    if not os.path.exists(kin_file):\n",
    "        features = extract_kinetic_features(keypoints3d)\n",
    "        np.save(kin_file, features)\n",
    "    else:\n",
    "        print(f'kin file of {seq_name} exists')\n",
    "\n",
    "    print (seq_name, \"is done\")"
   ]
  },
  {
   "cell_type": "code",
   "execution_count": null,
   "metadata": {},
   "outputs": [],
   "source": [
    "save_dir = 'eval-data/gt-features'\n",
    "motion_dir = '../dataset/SWDance/motions' # NOTE: you can take only the validation ones\n",
    "\n",
    "os.makedirs(save_dir, exist_ok=True)\n",
    "os.makedirs(os.path.join(save_dir, 'kinetic_features'), exist_ok=True)\n",
    "os.makedirs(os.path.join(save_dir, 'manual_features_new'), exist_ok=True)\n",
    "\n",
    "file_names = [f for f in os.listdir(motion_dir) if not f.startswith(\"M\")]\n",
    "print(f'motion dir: {motion_dir}, files: {file_names}')\n",
    "\n",
    "# processing\n",
    "process = functools.partial(calc_metrics, motion_dir=motion_dir, save_dir=save_dir)\n",
    "pool = multiprocessing.Pool(12)\n",
    "pool.map(process, file_names)"
   ]
  },
  {
   "cell_type": "markdown",
   "metadata": {},
   "source": [
    "--> NOTE: run this for all sets of motions you'd like to evaluate. "
   ]
  },
  {
   "cell_type": "markdown",
   "metadata": {},
   "source": [
    "## 2. Calculate the metrics."
   ]
  },
  {
   "cell_type": "code",
   "execution_count": null,
   "metadata": {},
   "outputs": [],
   "source": [
    "from utils.metrics_new import calc_and_save_feats, quantized_metrics\n",
    "\n",
    "gt_root = 'eval-data/gt-features'\n",
    "pred_root = 'eval-data/val-features'\n",
    "    \n",
    "print('Calculating and saving features')\n",
    "calc_and_save_feats(gt_root)\n",
    "calc_and_save_feats(pred_root)\n",
    "\n",
    "\n",
    "print('Calculating metrics')\n",
    "print(gt_root)\n",
    "print(pred_root)\n",
    "print(quantized_metrics(pred_root, gt_root))"
   ]
  }
 ],
 "metadata": {
  "kernelspec": {
   "display_name": "mdm-kernel",
   "language": "python",
   "name": "mdm-kernel"
  },
  "language_info": {
   "codemirror_mode": {
    "name": "ipython",
    "version": 3
   },
   "file_extension": ".py",
   "mimetype": "text/x-python",
   "name": "python",
   "nbconvert_exporter": "python",
   "pygments_lexer": "ipython3",
   "version": "3.10.10"
  }
 },
 "nbformat": 4,
 "nbformat_minor": 2
}
